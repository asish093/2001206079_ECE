{
  "nbformat": 4,
  "nbformat_minor": 0,
  "metadata": {
    "colab": {
      "provenance": [],
      "authorship_tag": "ABX9TyOS85QTysBEIhxmZDYY5Myr",
      "include_colab_link": true
    },
    "kernelspec": {
      "name": "python3",
      "display_name": "Python 3"
    },
    "language_info": {
      "name": "python"
    }
  },
  "cells": [
    {
      "cell_type": "markdown",
      "metadata": {
        "id": "view-in-github",
        "colab_type": "text"
      },
      "source": [
        "<a href=\"https://colab.research.google.com/github/asish093/2001206079_ECE/blob/main/AIML.ipynb\" target=\"_parent\"><img src=\"https://colab.research.google.com/assets/colab-badge.svg\" alt=\"Open In Colab\"/></a>"
      ]
    },
    {
      "cell_type": "code",
      "execution_count": null,
      "metadata": {
        "colab": {
          "base_uri": "https://localhost:8080/"
        },
        "id": "Z5QIj0Ueo8LZ",
        "outputId": "22dcb63f-ea12-4ff9-9fa9-8dd3f8e207c8"
      },
      "outputs": [
        {
          "output_type": "stream",
          "name": "stdout",
          "text": [
            "HELLO ECE\n"
          ]
        }
      ],
      "source": [
        "print('HELLO ECE')"
      ]
    },
    {
      "cell_type": "code",
      "source": [
        "print('HELLO ABIT',end=' ')\n",
        "print('DEPT.OF ECE')"
      ],
      "metadata": {
        "colab": {
          "base_uri": "https://localhost:8080/"
        },
        "id": "FfdfDhF5q_tW",
        "outputId": "c9bf2c84-603f-4438-8a3b-50ade3d31146"
      },
      "execution_count": null,
      "outputs": [
        {
          "output_type": "stream",
          "name": "stdout",
          "text": [
            "HELLO ABIT DEPT.OF ECE\n"
          ]
        }
      ]
    },
    {
      "cell_type": "code",
      "source": [
        "# using of sep='' in print().\n",
        "a=17\n",
        "b=1\n",
        "c=2002\n",
        "print(a,b,c, sep='-')"
      ],
      "metadata": {
        "colab": {
          "base_uri": "https://localhost:8080/"
        },
        "id": "4oD-aH6EsNgO",
        "outputId": "b1024cb3-c836-4d5f-ed46-5a2cc481ebc1"
      },
      "execution_count": null,
      "outputs": [
        {
          "output_type": "stream",
          "name": "stdout",
          "text": [
            "17-1-2002\n"
          ]
        }
      ]
    },
    {
      "cell_type": "markdown",
      "source": [],
      "metadata": {
        "id": "iqslnkrLfUZQ"
      }
    }
  ]
}