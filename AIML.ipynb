{
  "nbformat": 4,
  "nbformat_minor": 0,
  "metadata": {
    "colab": {
      "provenance": [],
      "authorship_tag": "ABX9TyPpfTot5E06/3JXZwiuekKI",
      "include_colab_link": true
    },
    "kernelspec": {
      "name": "python3",
      "display_name": "Python 3"
    },
    "language_info": {
      "name": "python"
    }
  },
  "cells": [
    {
      "cell_type": "markdown",
      "metadata": {
        "id": "view-in-github",
        "colab_type": "text"
      },
      "source": [
        "<a href=\"https://colab.research.google.com/github/asish093/2001206079_ECE/blob/main/AIML.ipynb\" target=\"_parent\"><img src=\"https://colab.research.google.com/assets/colab-badge.svg\" alt=\"Open In Colab\"/></a>"
      ]
    },
    {
      "cell_type": "code",
      "execution_count": null,
      "metadata": {
        "colab": {
          "base_uri": "https://localhost:8080/"
        },
        "id": "Z5QIj0Ueo8LZ",
        "outputId": "22dcb63f-ea12-4ff9-9fa9-8dd3f8e207c8"
      },
      "outputs": [
        {
          "output_type": "stream",
          "name": "stdout",
          "text": [
            "HELLO ECE\n"
          ]
        }
      ],
      "source": [
        "print('HELLO ECE')"
      ]
    },
    {
      "cell_type": "code",
      "source": [
        "print('HELLO ABIT',end=' ')\n",
        "print('DEPT.OF ECE')"
      ],
      "metadata": {
        "colab": {
          "base_uri": "https://localhost:8080/"
        },
        "id": "FfdfDhF5q_tW",
        "outputId": "c9bf2c84-603f-4438-8a3b-50ade3d31146"
      },
      "execution_count": null,
      "outputs": [
        {
          "output_type": "stream",
          "name": "stdout",
          "text": [
            "HELLO ABIT DEPT.OF ECE\n"
          ]
        }
      ]
    },
    {
      "cell_type": "code",
      "source": [
        "# using of sep='' in print().\n",
        "a=17\n",
        "b=1\n",
        "c=2002\n",
        "print(a,b,c, sep='-')"
      ],
      "metadata": {
        "colab": {
          "base_uri": "https://localhost:8080/"
        },
        "id": "4oD-aH6EsNgO",
        "outputId": "b1024cb3-c836-4d5f-ed46-5a2cc481ebc1"
      },
      "execution_count": null,
      "outputs": [
        {
          "output_type": "stream",
          "name": "stdout",
          "text": [
            "17-1-2002\n"
          ]
        }
      ]
    },
    {
      "cell_type": "code",
      "source": [
        "x=0b10100\n",
        "y=100\n",
        "z=0o215\n",
        "u=0x12d\n",
        "float_1=100.5\n",
        "float_2=1.5e2\n",
        "a=5+3.14j\n",
        "print(x,y,z,u)\n",
        "print(float_1,float_2)\n",
        "print(a,a.imag,a.real)\n"
      ],
      "metadata": {
        "colab": {
          "base_uri": "https://localhost:8080/"
        },
        "id": "xB9eRrc1uOWa",
        "outputId": "3acfac05-cee0-4169-e0b2-212668b71d76"
      },
      "execution_count": null,
      "outputs": [
        {
          "output_type": "stream",
          "name": "stdout",
          "text": [
            "20 100 141 301\n",
            "100.5 150.0\n",
            "(5+3.14j) 3.14 5.0\n"
          ]
        }
      ]
    },
    {
      "cell_type": "code",
      "source": [
        "a=23+5j\n",
        "b=2+5.12j\n",
        "c=a+b\n",
        "print(c)"
      ],
      "metadata": {
        "colab": {
          "base_uri": "https://localhost:8080/"
        },
        "id": "X8-Jyv-Fxpml",
        "outputId": "e3966ede-f079-4fd5-87be-29788ad9d098"
      },
      "execution_count": null,
      "outputs": [
        {
          "output_type": "stream",
          "name": "stdout",
          "text": [
            "(25+10.120000000000001j)\n"
          ]
        }
      ]
    },
    {
      "cell_type": "code",
      "source": [
        "a=int(input('Enter 1st no ='))\n",
        "b=int(input('Enter 2nd no ='))\n",
        "c=a+b\n",
        "print('c=',c)"
      ],
      "metadata": {
        "colab": {
          "base_uri": "https://localhost:8080/"
        },
        "id": "tdEC7TzayggV",
        "outputId": "00d1985a-664b-4e88-ac00-cd2d20aa0315"
      },
      "execution_count": null,
      "outputs": [
        {
          "output_type": "stream",
          "name": "stdout",
          "text": [
            "Enter 1st no =12\n",
            "Enter 2nd no =13\n",
            "c= 25\n"
          ]
        }
      ]
    },
    {
      "cell_type": "code",
      "source": [
        "#using of /,// and ** in arithmetic operator\n",
        "a=2\n",
        "b=4\n",
        "c=a/b\n",
        "print(c)\n",
        "d=a//b\n",
        "print(c)\n",
        "e=a**b\n",
        "print(e)\n"
      ],
      "metadata": {
        "colab": {
          "base_uri": "https://localhost:8080/"
        },
        "id": "bCdzrOY5ze-S",
        "outputId": "8b36b6b3-3120-4248-d846-349912848485"
      },
      "execution_count": null,
      "outputs": [
        {
          "output_type": "stream",
          "name": "stdout",
          "text": [
            "0.5\n",
            "0.5\n",
            "16\n"
          ]
        }
      ]
    },
    {
      "cell_type": "markdown",
      "source": [
        "1. Input radius finds AREA OF CIRCLE and PERIMETER OF THE CIRCLE.\n",
        "2. Input Kilometer converts to centimeter,meter,and millimeter.\n",
        "3. Input two numbers find sum without'+'operator.\n",
        "4. Input two numbers find reminder without'%'.\n",
        "5. Input temperature finds Celsius and Fahernheit and vice-versa.\n",
        "6. Input a number finds reverse number without looping structure."
      ],
      "metadata": {
        "id": "gjOc5Gwyf4eT"
      }
    },
    {
      "cell_type": "markdown",
      "source": [],
      "metadata": {
        "id": "iqslnkrLfUZQ"
      }
    }
  ]
}